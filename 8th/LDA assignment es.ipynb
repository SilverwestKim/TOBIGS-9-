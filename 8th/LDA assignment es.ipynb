{
 "cells": [
  {
   "cell_type": "code",
   "execution_count": 2,
   "metadata": {
    "collapsed": true
   },
   "outputs": [],
   "source": [
    "import matplotlib.pyplot as plt\n",
    "import numpy as np"
   ]
  },
  {
   "cell_type": "code",
   "execution_count": 3,
   "metadata": {
    "collapsed": true
   },
   "outputs": [],
   "source": [
    "def class_generator(npoints, mu = [0,0], cov = [[0.1, 0],[0, 0.1]]):\n",
    "    class_dict = {}\n",
    "    class_dict['mu'] = mu\n",
    "    class_dict['cov'] = cov\n",
    "    class_dict['npoints'] = npoints\n",
    "    class_dict['points'] = np.random.multivariate_normal(mean = mu, cov = cov, size = npoints)\n",
    "    return class_dict\n",
    "\n",
    "\n",
    "def S_calculator(w, point_classes):\n",
    "    cov = []\n",
    "    mean = []\n",
    "    for i in range(len(point_classes)):\n",
    "        cov.append(np.cov(point_classes[i]['points'].T))\n",
    "        mean.append(np.mean(point_classes[i]['points'], axis =0))\n",
    "    B = np.sum(np.array(cov), axis = 0)\n",
    "    A = np.cov(np.array(mean).T)\n",
    "    \n",
    "    return np.matmul(np.matmul(np.reshape(w, [1,-1]),A),np.reshape(w, [-1,1]))/np.matmul(np.matmul(np.reshape(w, [1,-1]),B),np.reshape(w, [-1,1]))\n",
    "\n",
    "\n",
    "def LDA(point_classes):\n",
    "    cov = []\n",
    "    mean = []\n",
    "    for i in range(len(point_classes)):\n",
    "        cov.append(np.cov(point_classes[i]['points'].T))\n",
    "        mean.append(np.mean(point_classes[i]['points'],axis =0 ))\n",
    "    B = np.sum(np.array(cov), axis = 0)\n",
    "    A = np.cov(np.array(mean).T)\n",
    "    w, v= np.linalg.eig(np.matmul(np.linalg.inv(B),A))\n",
    "    return w, v.T\n",
    "    \n",
    "def plotter(class_dict, style = 'bo'):\n",
    "    temp = class_dict['points']\n",
    "    for i in range(class_dict['npoints']):\n",
    "        plt.plot(temp[i][0],temp[i][1], style)\n",
    "\n",
    "def projection_plotter(class_dict, proj, style = 'bo'):\n",
    "    temp = class_dict['points']\n",
    "    for i in range(class_dict['npoints']):\n",
    "        plt.plot(np.dot(temp[i], proj[0]),np.dot(temp[i], proj[1]), style)"
   ]
  },
  {
   "cell_type": "code",
   "execution_count": 4,
   "metadata": {
    "collapsed": true
   },
   "outputs": [],
   "source": [
    "classes = []\n",
    "classes.append(class_generator(50, mu = [2, 6], cov = [[0.2, 0.15],[0.15,0.2]]))\n",
    "classes.append(class_generator(50, mu = [2.5, 5.5], cov = [[0.2, 0.15],[0.15,0.2]]))\n",
    "classes.append(class_generator(50, mu = [3, 5], cov = [[0.2, 0.15],[0.15,0.2]]))"
   ]
  },
  {
   "cell_type": "code",
   "execution_count": 5,
   "metadata": {},
   "outputs": [
    {
     "name": "stdout",
     "output_type": "stream",
     "text": [
      "[ 0.00488064  3.7953994 ]\n",
      "[[-0.76247696 -0.64701537]\n",
      " [ 0.71473439 -0.69939599]]\n"
     ]
    }
   ],
   "source": [
    "w, v = LDA(classes)\n",
    "print(w)\n",
    "print(v)"
   ]
  },
  {
   "cell_type": "code",
   "execution_count": 6,
   "metadata": {},
   "outputs": [
    {
     "name": "stdout",
     "output_type": "stream",
     "text": [
      "[[ 0.00488064]]\n",
      "[[ 3.7953994]]\n"
     ]
    }
   ],
   "source": [
    "print(S_calculator(v[0], classes))\n",
    "print(S_calculator(v[1], classes))"
   ]
  },
  {
   "cell_type": "code",
   "execution_count": 7,
   "metadata": {},
   "outputs": [
    {
     "data": {
      "image/png": "[encoded data removed]",
      "text/plain": [
       "<matplotlib.figure.Figure at 0x234b9bd9668>"
      ]
     },
     "metadata": {},
     "output_type": "display_data"
    }
   ],
   "source": [
    "plotter(classes[0], 'ro')\n",
    "plotter(classes[1], 'bo')\n",
    "plotter(classes[2], 'ko')\n",
    "plt.title(\"Labled points\")\n",
    "plt.show()"
   ]
  },
  {
   "cell_type": "markdown",
   "metadata": {},
   "source": [
    "### Bigger the weight, the more separable points"
   ]
  },
  {
   "cell_type": "code",
   "execution_count": 8,
   "metadata": {},
   "outputs": [
    {
     "data": {
      "image/png": "[encoded data removed]",
      "text/plain": [
       "<matplotlib.figure.Figure at 0x234ba620a90>"
      ]
     },
     "metadata": {},
     "output_type": "display_data"
    }
   ],
   "source": [
    "projection_plotter(classes[0], v, 'ro')\n",
    "projection_plotter(classes[1], v, 'bo')\n",
    "projection_plotter(classes[2], v, 'ko')\n",
    "plt.title(\"Mapping through LDA\")\n",
    "plt.show()"
   ]
  },
  {
   "cell_type": "code",
   "execution_count": null,
   "metadata": {
    "collapsed": true
   },
   "outputs": [],
   "source": []
  }
 ],
 "metadata": {
  "kernelspec": {
   "display_name": "Python 3",
   "language": "python",
   "name": "python3"
  },
  "language_info": {
   "codemirror_mode": {
    "name": "ipython",
    "version": 3
   },
   "file_extension": ".py",
   "mimetype": "text/x-python",
   "name": "python",
   "nbconvert_exporter": "python",
   "pygments_lexer": "ipython3",
   "version": "3.6.3"
  }
 },
 "nbformat": 4,
 "nbformat_minor": 2
}
