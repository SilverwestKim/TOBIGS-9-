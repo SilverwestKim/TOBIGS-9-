{
 "cells": [
  {
   "cell_type": "markdown",
   "metadata": {},
   "source": [
    "# Algorithm #1"
   ]
  },
  {
   "cell_type": "markdown",
   "metadata": {},
   "source": [
    "#### 조건에 맞는 index를 추출한 후에, 음수 array와 양수 array를 따로 저장하여 두 개를 합쳐주는 방식이다."
   ]
  },
  {
   "cell_type": "code",
   "execution_count": null,
   "metadata": {
    "collapsed": true
   },
   "outputs": [],
   "source": [
    "import numpy as np"
   ]
  },
  {
   "cell_type": "code",
   "execution_count": 61,
   "metadata": {
    "collapsed": true
   },
   "outputs": [],
   "source": [
    "def Arg(A):\n",
    "    idx=(A<0)\n",
    "    a=A[idx]\n",
    "    b=A[~idx]\n",
    "    A=np.concatenate((a,b),axis=0)\n",
    "    print(A)\n",
    "    "
   ]
  },
  {
   "cell_type": "code",
   "execution_count": 63,
   "metadata": {
    "scrolled": true
   },
   "outputs": [
    {
     "name": "stdout",
     "output_type": "stream",
     "text": [
      "[-2 -3  1  3  2]\n"
     ]
    }
   ],
   "source": [
    "k=np.array([-2,1,3,-3,2])\n",
    "Arg(k)"
   ]
  },
  {
   "cell_type": "markdown",
   "metadata": {},
   "source": [
    "# Algorithm #2"
   ]
  },
  {
   "cell_type": "markdown",
   "metadata": {},
   "source": [
    "#### 2의 1000제곱을 문자열 형태로 변환 후, 각 자릿수에 대해 int 형으로 바꾸어 준 다음에 합을 출력해 내면 된다."
   ]
  },
  {
   "cell_type": "code",
   "execution_count": 68,
   "metadata": {
    "collapsed": true,
    "scrolled": true
   },
   "outputs": [],
   "source": [
    "def expn2():\n",
    "    print(sum([int(x) for x in str(2**1000)]))"
   ]
  },
  {
   "cell_type": "code",
   "execution_count": 69,
   "metadata": {},
   "outputs": [
    {
     "name": "stdout",
     "output_type": "stream",
     "text": [
      "1366\n"
     ]
    }
   ],
   "source": [
    "expn2()"
   ]
  },
  {
   "cell_type": "markdown",
   "metadata": {},
   "source": [
    "# Algorithm #3"
   ]
  },
  {
   "cell_type": "markdown",
   "metadata": {},
   "source": [
    "#### 뒤집은 수를 먼저 구하고, 곱한 수를 앞 자리부터 하나씩 비교하는 방법 사용. 세 자리수 중에서는 총 21개임을 알 수 있다."
   ]
  },
  {
   "cell_type": "code",
   "execution_count": 126,
   "metadata": {},
   "outputs": [
    {
     "name": "stdout",
     "output_type": "stream",
     "text": [
      "21\n"
     ]
    }
   ],
   "source": [
    "sum=0\n",
    "for i in range(101,1000) :\n",
    "    if(i%10!=0) :\n",
    "        x=i * int(str(i)[::-1])\n",
    "        s=str(x)\n",
    "        a=0\n",
    "        for j in range(len(s)-1) :\n",
    "            if s[j]<=s[j+1] :\n",
    "                a=a+1\n",
    "        if a==len(s)-1:\n",
    "            sum=sum+1"
   ]
  },
  {
   "cell_type": "code",
   "execution_count": 125,
   "metadata": {},
   "outputs": [
    {
     "name": "stdout",
     "output_type": "stream",
     "text": [
      "21\n"
     ]
    }
   ],
   "source": [
    "print(sum)"
   ]
  },
  {
   "cell_type": "markdown",
   "metadata": {},
   "source": [
    "# Algorithm #4"
   ]
  },
  {
   "cell_type": "code",
   "execution_count": 36,
   "metadata": {
    "collapsed": true
   },
   "outputs": [],
   "source": [
    "def mos(s):\n",
    "    dict={  '.-'   : 'A',  '-...' : 'B',\n",
    "            '-.-.' : 'C',  '-..'  : 'D',\n",
    "            '.'    : 'E',  '..-.' : 'F',\n",
    "            '--.'  : 'G',  '....' : 'H',\n",
    "            '..'   : 'I',  '.---' : 'J',\n",
    "            '-.-'  : 'K',  '.-..' : 'L',\n",
    "            '--'   : 'M',  '-.'   : 'N',\n",
    "            '---'  : 'O',  '.--.' : 'P',\n",
    "            '--.-' : 'Q',  '.-.'  : 'R',\n",
    "            '...'  : 'S',  '-'    : 'T',\n",
    "            '..-'  : 'U',  '...-' : 'V',\n",
    "            '.--'  : 'W',  '-..-' : 'X',\n",
    "            '-.--' : 'Y',  '--..' : 'Z' }\n",
    "    \n",
    "    list=s.split(' ')\n",
    "    printstr= ''\n",
    "    for i in list:\n",
    "        if i=='':\n",
    "            printstr+=' '\n",
    "        else:\n",
    "            printstr+=dict[i]\n",
    "    print(printstr.lower())"
   ]
  },
  {
   "cell_type": "code",
   "execution_count": 37,
   "metadata": {
    "scrolled": true
   },
   "outputs": [
    {
     "name": "stdout",
     "output_type": "stream",
     "text": [
      "cream source pasta\n"
     ]
    }
   ],
   "source": [
    "mos('-.-. .-. . .- --  ... --- ..- .-. -.-. .  .--. .- ... - .-')"
   ]
  },
  {
   "cell_type": "code",
   "execution_count": 38,
   "metadata": {},
   "outputs": [
    {
     "name": "stdout",
     "output_type": "stream",
     "text": [
      "he sleeps early\n"
     ]
    }
   ],
   "source": [
    "mos('.... .  ... .-.. . . .--. ...  . .- .-. .-.. -.--')"
   ]
  },
  {
   "cell_type": "code",
   "execution_count": null,
   "metadata": {
    "collapsed": true
   },
   "outputs": [],
   "source": []
  }
 ],
 "metadata": {
  "kernelspec": {
   "display_name": "Python 3",
   "language": "python",
   "name": "python3"
  },
  "language_info": {
   "codemirror_mode": {
    "name": "ipython",
    "version": 3
   },
   "file_extension": ".py",
   "mimetype": "text/x-python",
   "name": "python",
   "nbconvert_exporter": "python",
   "pygments_lexer": "ipython3",
   "version": "3.6.3"
  }
 },
 "nbformat": 4,
 "nbformat_minor": 2
}
